{
 "cells": [
  {
   "cell_type": "code",
   "execution_count": 43,
   "metadata": {},
   "outputs": [],
   "source": [
    "import numpy as np \n",
    "import pandas as pd\n",
    "from sklearn.model_selection import train_test_split\n",
    "import tensorflow as tf\n",
    "from tensorflow import keras\n",
    "from tensorflow.keras import layers\n",
    "from sklearn.preprocessing import MinMaxScaler\n",
    "from matplotlib import pyplot as plt\n",
    "from scipy import linalg\n",
    "import matplotlib.pyplot as plt\n",
    "from scipy import stats\n",
    "import seaborn as sns\n",
    "import pymc3 as pm\n",
    "import random"
   ]
  },
  {
   "cell_type": "code",
   "execution_count": 104,
   "metadata": {},
   "outputs": [
    {
     "name": "stdout",
     "output_type": "stream",
     "text": [
      "150000\n",
      "Index(['SeriousDlqin2yrs', 'Intercept', 'RevolvingUtilizationOfUnsecuredLines',\n",
      "       'age', 'NumberOfTime30-59DaysPastDueNotWorse', 'DebtRatio',\n",
      "       'MonthlyIncome', 'NumberOfOpenCreditLinesAndLoans',\n",
      "       'NumberOfTimes90DaysLate', 'NumberRealEstateLoansOrLines',\n",
      "       'NumberOfTime60-89DaysPastDueNotWorse', 'NumberOfDependents'],\n",
      "      dtype='object')\n"
     ]
    }
   ],
   "source": [
    "Df = pd.read_csv(\"cs-training.csv\", index_col = 0)\n",
    "print(len(Df))\n",
    "Df = pd.DataFrame(Df)\n",
    "Df = Df.dropna()\n",
    "Df.insert(1, 'Intercept', '1')\n",
    "Df['Intercept'] = Df['Intercept'].astype(float)\n",
    "\n",
    "\n",
    "\n",
    "print(Df.columns)\n",
    "\n",
    "Df.rename(columns= {'NumberOfTime30-59DaysPastDueNotWorse':'NumberOfTimeThirtyFiftyNineDaysPastDueNotWorse'}, inplace = True)\n",
    "Df.rename(columns= {'NumberOfTimes90DaysLate':'NumberOfTimesNinetyDaysLate'}, inplace = True)\n",
    "Df.rename(columns= {'NumberOfTime60-89DaysPastDueNotWorse':'NumberOfTimeSixtytoEightyNineDaysPastDueNotWorse'}, inplace = True)\n",
    "\n",
    "X_Cols = list(Df.columns)\n",
    "X_Cols.remove(\"SeriousDlqin2yrs\")\n",
    "X = Df[X_Cols]\n",
    "Y = Df[\"SeriousDlqin2yrs\"]\n",
    "\n",
    "\n",
    "X_Train, X_Test, Y_Train, Y_Test = train_test_split(X, Y, test_size = 0.33, random_state = 42)"
   ]
  },
  {
   "cell_type": "code",
   "execution_count": 78,
   "metadata": {},
   "outputs": [],
   "source": [
    "with pm.Model() as Logistic_Model:\n",
    "    \n",
    "    Lambda1 = pm.HalfNormal(\"Lambda1\", sigma = 100)\n",
    "    Lambda2 = pm.HalfNormal(\"Lambda2\", sigma = 100)\n",
    "    Lambda3 = pm.HalfNormal(\"Lambda3\", sigma = 100)\n",
    "    \n",
    "    Lambda4 = pm.HalfNormal(\"Lambda4\", sigma = 100)\n",
    "    Lambda5 = pm.HalfNormal(\"Lambda5\", sigma = 100)\n",
    "    Lambda6 = pm.HalfNormal(\"Lambda6\", sigma = 100)\n",
    "    Lambda7 = pm.HalfNormal(\"Lambda7\", sigma = 100)\n",
    "    \n",
    "    Intercept = pm.Normal('Intercept', 0, sd = 100)\n",
    "    Beta_1 = pm.Normal('Beta_1', 0, sd = 100)\n",
    "    Beta_2 = pm.Poisson('Beta_2', mu = Lambda1)\n",
    "    Beta_3 = pm.Poisson('Beta_3', mu = Lambda2)\n",
    "    \n",
    "    Beta_4 = pm.Normal('Beta_4', 0, sd = 100)\n",
    "    Beta_5 = pm.Normal('Beta_5', 0, sd = 100)\n",
    "    \n",
    "    \n",
    "    Beta_6 = pm.Poisson('Beta_6', mu = Lambda3)\n",
    "    Beta_7 = pm.Poisson('Beta_7', mu = Lambda4)\n",
    "    \n",
    "    Beta_8 = pm.Poisson('Beta_8', mu = Lambda5)\n",
    "    \n",
    "    Beta_9 = pm.Poisson('Beta_9', mu = Lambda6)\n",
    "    \n",
    "    Beta_10 = pm.Poisson('Beta_10', mu = Lambda7)\n",
    "    \n",
    "    Likelihood = pm.invlogit(Intercept + Beta_1 * X_Train.RevolvingUtilizationOfUnsecuredLines + Beta_2 * X_Train.age +\n",
    "                            Beta_3 * X_Train.NumberOfTimeThirtyFiftyNineDaysPastDueNotWorse + Beta_4 * X_Train.DebtRatio +\n",
    "                            Beta_5 * X_Train.MonthlyIncome + Beta_6 * X_Train.NumberOfOpenCreditLinesAndLoans + Beta_7 * X_Train.NumberOfTimesNinetyDaysLate +\n",
    "                            Beta_8 * X_Train.NumberRealEstateLoansOrLines + Beta_9 * X_Train.NumberOfTimeSixtytoEightyNineDaysPastDueNotWorse +\n",
    "                            Beta_10 * X_Train.NumberOfDependents)\n",
    "    \n",
    "    pm.Bernoulli(name = \"logit\", p = Likelihood, observed = Y_Train)"
   ]
  },
  {
   "cell_type": "code",
   "execution_count": 80,
   "metadata": {},
   "outputs": [],
   "source": [
    "with pm.Model() as Logistic_Model:\n",
    "    \n",
    "    Intercept = pm.Normal('Intercept', 0, sd = 100)\n",
    "    Beta_1 = pm.Normal('Beta_1', 0, sd = 100)\n",
    "    Beta_2 = pm.Normal('Beta_2', 0, sd = 100)\n",
    "    Beta_3 = pm.Normal('Beta_3', 0, sd = 100)\n",
    "    Beta_4 = pm.Normal('Beta_4', 0, sd = 100)\n",
    "    Beta_5 = pm.Normal('Beta_5', 0, sd = 100)\n",
    "    \n",
    "    Beta_6 = pm.Normal('Beta_6', 0, sd = 100)\n",
    "    Beta_7 = pm.Normal('Beta_7', 0, sd = 100)\n",
    "    Beta_8 = pm.Normal('Beta_8', 0, sd = 100)\n",
    "    Beta_9 = pm.Normal('Beta_9', 0, sd = 100)\n",
    "    Beta_10 = pm.Normal('Beta_10', 0, sd = 100)\n",
    "    \n",
    "    Likelihood = pm.invlogit(Intercept + Beta_1 * X_Train.RevolvingUtilizationOfUnsecuredLines + Beta_2 * X_Train.age +\n",
    "                            Beta_3 * X_Train.NumberOfTimeThirtyFiftyNineDaysPastDueNotWorse + Beta_4 * X_Train.DebtRatio +\n",
    "                            Beta_5 * X_Train.MonthlyIncome + Beta_6 * X_Train.NumberOfOpenCreditLinesAndLoans + Beta_7 * X_Train.NumberOfTimesNinetyDaysLate +\n",
    "                            Beta_8 * X_Train.NumberRealEstateLoansOrLines + Beta_9 * X_Train.NumberOfTimeSixtytoEightyNineDaysPastDueNotWorse +\n",
    "                            Beta_10 * X_Train.NumberOfDependents)\n",
    "    \n",
    "    pm.Bernoulli(name = \"logit\", p = Likelihood, observed = Y_Train)"
   ]
  },
  {
   "cell_type": "code",
   "execution_count": 81,
   "metadata": {},
   "outputs": [
    {
     "data": {
      "text/html": [
       "\n",
       "<style>\n",
       "    /* Turns off some styling */\n",
       "    progress {\n",
       "        /* gets rid of default border in Firefox and Opera. */\n",
       "        border: none;\n",
       "        /* Needs to be in here for Safari polyfill so background images work as expected. */\n",
       "        background-size: auto;\n",
       "    }\n",
       "    .progress-bar-interrupted, .progress-bar-interrupted::-webkit-progress-bar {\n",
       "        background: #F44336;\n",
       "    }\n",
       "</style>\n"
      ],
      "text/plain": [
       "<IPython.core.display.HTML object>"
      ]
     },
     "metadata": {},
     "output_type": "display_data"
    },
    {
     "data": {
      "text/html": [
       "\n",
       "    <div>\n",
       "      <progress value='1093' class='' max='1093' style='width:300px; height:20px; vertical-align: middle;'></progress>\n",
       "      100.00% [1093/1093 00:25<00:00 logp = -18,923, ||grad|| = 1,528.4]\n",
       "    </div>\n",
       "    "
      ],
      "text/plain": [
       "<IPython.core.display.HTML object>"
      ]
     },
     "metadata": {},
     "output_type": "display_data"
    },
    {
     "name": "stdout",
     "output_type": "stream",
     "text": [
      "\n"
     ]
    },
    {
     "name": "stderr",
     "output_type": "stream",
     "text": [
      "/Users/rexshen/opt/anaconda3/lib/python3.7/site-packages/ipykernel_launcher.py:6: DeprecationWarning: np.asscalar(a) is deprecated since NumPy v1.16, use a.item() instead\n",
      "  \n"
     ]
    },
    {
     "data": {
      "text/plain": [
       "Intercept   -0.672393\n",
       "Beta_1      -0.000085\n",
       "Beta_2      -0.040680\n",
       "Beta_3       0.532546\n",
       "Beta_4      -0.000119\n",
       "Beta_5      -0.000042\n",
       "Beta_6      -0.002517\n",
       "Beta_7       0.443406\n",
       "Beta_8       0.028243\n",
       "Beta_9      -0.941775\n",
       "Beta_10      0.080549\n",
       "dtype: float64"
      ]
     },
     "execution_count": 81,
     "metadata": {},
     "output_type": "execute_result"
    }
   ],
   "source": [
    "random.seed(1)\n",
    "with Logistic_Model:\n",
    "    MAP_Estimate = pm.find_MAP()\n",
    "\n",
    "def Print_Map(Res):\n",
    "    return pd.Series({k: np.asscalar(v) for k, v in Res.items()})\n",
    "\n",
    "Print_Map(MAP_Estimate)"
   ]
  },
  {
   "cell_type": "code",
   "execution_count": 40,
   "metadata": {},
   "outputs": [
    {
     "name": "stderr",
     "output_type": "stream",
     "text": [
      "/Users/rexshen/opt/anaconda3/lib/python3.7/site-packages/deprecat/classic.py:215: FutureWarning: In v4.0, pm.sample will return an `arviz.InferenceData` object instead of a `MultiTrace` by default. You can pass return_inferencedata=True or return_inferencedata=False to be safe and silence this warning.\n",
      "  return wrapped_(*args_, **kwargs_)\n",
      "Auto-assigning NUTS sampler...\n",
      "Initializing NUTS using adapt_diag...\n",
      "Multiprocess sampling (4 chains in 3 jobs)\n",
      "NUTS: [Beta_10, Beta_9, Beta_8, Beta_7, Beta_6, Beta_5, Beta_4, Beta_3, Beta_2, Beta_1, Intercept]\n"
     ]
    },
    {
     "data": {
      "text/html": [
       "\n",
       "<style>\n",
       "    /* Turns off some styling */\n",
       "    progress {\n",
       "        /* gets rid of default border in Firefox and Opera. */\n",
       "        border: none;\n",
       "        /* Needs to be in here for Safari polyfill so background images work as expected. */\n",
       "        background-size: auto;\n",
       "    }\n",
       "    .progress-bar-interrupted, .progress-bar-interrupted::-webkit-progress-bar {\n",
       "        background: #F44336;\n",
       "    }\n",
       "</style>\n"
      ],
      "text/plain": [
       "<IPython.core.display.HTML object>"
      ]
     },
     "metadata": {},
     "output_type": "display_data"
    },
    {
     "data": {
      "text/html": [
       "\n",
       "    <div>\n",
       "      <progress value='8000' class='' max='8000' style='width:300px; height:20px; vertical-align: middle;'></progress>\n",
       "      100.00% [8000/8000 1:20:03<00:00 Sampling 4 chains, 0 divergences]\n",
       "    </div>\n",
       "    "
      ],
      "text/plain": [
       "<IPython.core.display.HTML object>"
      ]
     },
     "metadata": {},
     "output_type": "display_data"
    },
    {
     "name": "stderr",
     "output_type": "stream",
     "text": [
      "Sampling 4 chains for 1_000 tune and 1_000 draw iterations (4_000 + 4_000 draws total) took 4832 seconds.\n"
     ]
    }
   ],
   "source": [
    "random.seed(1)\n",
    "with Logistic_Model:\n",
    "    Trace = pm.sample(tune = 1000, draws = 1000, chains = 4, init = 'adapt_diag', cores = 3)"
   ]
  },
  {
   "cell_type": "code",
   "execution_count": 41,
   "metadata": {},
   "outputs": [
    {
     "name": "stderr",
     "output_type": "stream",
     "text": [
      "Got error No model on context stack. trying to find log_likelihood in translation.\n",
      "/Users/rexshen/opt/anaconda3/lib/python3.7/site-packages/arviz/data/io_pymc3_3x.py:102: FutureWarning: Using `from_pymc3` without the model will be deprecated in a future release. Not using the model will return less accurate and less useful results. Make sure you use the model argument or call from_pymc3 within a model context.\n",
      "  FutureWarning,\n"
     ]
    },
    {
     "data": {
      "text/html": [
       "<div>\n",
       "<style scoped>\n",
       "    .dataframe tbody tr th:only-of-type {\n",
       "        vertical-align: middle;\n",
       "    }\n",
       "\n",
       "    .dataframe tbody tr th {\n",
       "        vertical-align: top;\n",
       "    }\n",
       "\n",
       "    .dataframe thead th {\n",
       "        text-align: right;\n",
       "    }\n",
       "</style>\n",
       "<table border=\"1\" class=\"dataframe\">\n",
       "  <thead>\n",
       "    <tr style=\"text-align: right;\">\n",
       "      <th></th>\n",
       "      <th>mean</th>\n",
       "      <th>sd</th>\n",
       "      <th>hdi_3%</th>\n",
       "      <th>hdi_97%</th>\n",
       "      <th>mcse_mean</th>\n",
       "      <th>mcse_sd</th>\n",
       "      <th>ess_bulk</th>\n",
       "      <th>ess_tail</th>\n",
       "      <th>r_hat</th>\n",
       "    </tr>\n",
       "  </thead>\n",
       "  <tbody>\n",
       "    <tr>\n",
       "      <th>Intercept</th>\n",
       "      <td>-1.509</td>\n",
       "      <td>0.057</td>\n",
       "      <td>-1.615</td>\n",
       "      <td>-1.403</td>\n",
       "      <td>0.001</td>\n",
       "      <td>0.001</td>\n",
       "      <td>1516.0</td>\n",
       "      <td>1877.0</td>\n",
       "      <td>1.0</td>\n",
       "    </tr>\n",
       "    <tr>\n",
       "      <th>Beta_1</th>\n",
       "      <td>-0.000</td>\n",
       "      <td>0.000</td>\n",
       "      <td>-0.000</td>\n",
       "      <td>0.000</td>\n",
       "      <td>0.000</td>\n",
       "      <td>0.000</td>\n",
       "      <td>2101.0</td>\n",
       "      <td>1916.0</td>\n",
       "      <td>1.0</td>\n",
       "    </tr>\n",
       "    <tr>\n",
       "      <th>Beta_2</th>\n",
       "      <td>-0.025</td>\n",
       "      <td>0.001</td>\n",
       "      <td>-0.027</td>\n",
       "      <td>-0.023</td>\n",
       "      <td>0.000</td>\n",
       "      <td>0.000</td>\n",
       "      <td>1689.0</td>\n",
       "      <td>1953.0</td>\n",
       "      <td>1.0</td>\n",
       "    </tr>\n",
       "    <tr>\n",
       "      <th>Beta_3</th>\n",
       "      <td>0.504</td>\n",
       "      <td>0.015</td>\n",
       "      <td>0.477</td>\n",
       "      <td>0.532</td>\n",
       "      <td>0.000</td>\n",
       "      <td>0.000</td>\n",
       "      <td>2809.0</td>\n",
       "      <td>2524.0</td>\n",
       "      <td>1.0</td>\n",
       "    </tr>\n",
       "    <tr>\n",
       "      <th>Beta_4</th>\n",
       "      <td>-0.000</td>\n",
       "      <td>0.000</td>\n",
       "      <td>-0.000</td>\n",
       "      <td>-0.000</td>\n",
       "      <td>0.000</td>\n",
       "      <td>0.000</td>\n",
       "      <td>3174.0</td>\n",
       "      <td>2524.0</td>\n",
       "      <td>1.0</td>\n",
       "    </tr>\n",
       "    <tr>\n",
       "      <th>Beta_5</th>\n",
       "      <td>-0.000</td>\n",
       "      <td>0.000</td>\n",
       "      <td>-0.000</td>\n",
       "      <td>-0.000</td>\n",
       "      <td>0.000</td>\n",
       "      <td>0.000</td>\n",
       "      <td>2782.0</td>\n",
       "      <td>2240.0</td>\n",
       "      <td>1.0</td>\n",
       "    </tr>\n",
       "    <tr>\n",
       "      <th>Beta_6</th>\n",
       "      <td>-0.004</td>\n",
       "      <td>0.003</td>\n",
       "      <td>-0.011</td>\n",
       "      <td>0.002</td>\n",
       "      <td>0.000</td>\n",
       "      <td>0.000</td>\n",
       "      <td>2252.0</td>\n",
       "      <td>2171.0</td>\n",
       "      <td>1.0</td>\n",
       "    </tr>\n",
       "    <tr>\n",
       "      <th>Beta_7</th>\n",
       "      <td>0.420</td>\n",
       "      <td>0.020</td>\n",
       "      <td>0.385</td>\n",
       "      <td>0.459</td>\n",
       "      <td>0.000</td>\n",
       "      <td>0.000</td>\n",
       "      <td>2218.0</td>\n",
       "      <td>2374.0</td>\n",
       "      <td>1.0</td>\n",
       "    </tr>\n",
       "    <tr>\n",
       "      <th>Beta_8</th>\n",
       "      <td>0.068</td>\n",
       "      <td>0.013</td>\n",
       "      <td>0.043</td>\n",
       "      <td>0.093</td>\n",
       "      <td>0.000</td>\n",
       "      <td>0.000</td>\n",
       "      <td>2451.0</td>\n",
       "      <td>2747.0</td>\n",
       "      <td>1.0</td>\n",
       "    </tr>\n",
       "    <tr>\n",
       "      <th>Beta_9</th>\n",
       "      <td>-0.887</td>\n",
       "      <td>0.023</td>\n",
       "      <td>-0.929</td>\n",
       "      <td>-0.844</td>\n",
       "      <td>0.001</td>\n",
       "      <td>0.000</td>\n",
       "      <td>1999.0</td>\n",
       "      <td>2284.0</td>\n",
       "      <td>1.0</td>\n",
       "    </tr>\n",
       "    <tr>\n",
       "      <th>Beta_10</th>\n",
       "      <td>0.106</td>\n",
       "      <td>0.012</td>\n",
       "      <td>0.083</td>\n",
       "      <td>0.127</td>\n",
       "      <td>0.000</td>\n",
       "      <td>0.000</td>\n",
       "      <td>3018.0</td>\n",
       "      <td>2529.0</td>\n",
       "      <td>1.0</td>\n",
       "    </tr>\n",
       "  </tbody>\n",
       "</table>\n",
       "</div>"
      ],
      "text/plain": [
       "            mean     sd  hdi_3%  hdi_97%  mcse_mean  mcse_sd  ess_bulk  \\\n",
       "Intercept -1.509  0.057  -1.615   -1.403      0.001    0.001    1516.0   \n",
       "Beta_1    -0.000  0.000  -0.000    0.000      0.000    0.000    2101.0   \n",
       "Beta_2    -0.025  0.001  -0.027   -0.023      0.000    0.000    1689.0   \n",
       "Beta_3     0.504  0.015   0.477    0.532      0.000    0.000    2809.0   \n",
       "Beta_4    -0.000  0.000  -0.000   -0.000      0.000    0.000    3174.0   \n",
       "Beta_5    -0.000  0.000  -0.000   -0.000      0.000    0.000    2782.0   \n",
       "Beta_6    -0.004  0.003  -0.011    0.002      0.000    0.000    2252.0   \n",
       "Beta_7     0.420  0.020   0.385    0.459      0.000    0.000    2218.0   \n",
       "Beta_8     0.068  0.013   0.043    0.093      0.000    0.000    2451.0   \n",
       "Beta_9    -0.887  0.023  -0.929   -0.844      0.001    0.000    1999.0   \n",
       "Beta_10    0.106  0.012   0.083    0.127      0.000    0.000    3018.0   \n",
       "\n",
       "           ess_tail  r_hat  \n",
       "Intercept    1877.0    1.0  \n",
       "Beta_1       1916.0    1.0  \n",
       "Beta_2       1953.0    1.0  \n",
       "Beta_3       2524.0    1.0  \n",
       "Beta_4       2524.0    1.0  \n",
       "Beta_5       2240.0    1.0  \n",
       "Beta_6       2171.0    1.0  \n",
       "Beta_7       2374.0    1.0  \n",
       "Beta_8       2747.0    1.0  \n",
       "Beta_9       2284.0    1.0  \n",
       "Beta_10      2529.0    1.0  "
      ]
     },
     "execution_count": 41,
     "metadata": {},
     "output_type": "execute_result"
    }
   ],
   "source": [
    "pm.summary(Trace)"
   ]
  },
  {
   "cell_type": "code",
   "execution_count": 114,
   "metadata": {},
   "outputs": [],
   "source": [
    "Map_Est_Coef = np.array([-0.672393, -0.000085, -0.040680, 0.532546, -0.000119, -0.000042, -0.002517, 0.443406, 0.028243, -0.941775, 0.080549])\n",
    "\n",
    "### Training Classification Accuracy\n",
    "\n",
    "Probs = np.zeros(len(X_Train))\n",
    "\n",
    "for i in range(len(X_Train)):\n",
    "    Vector = np.array(X_Train.iloc[i, :])\n",
    "    Probs[i] = 1/(1 + np.exp(-np.dot(Vector, Map_Est_Coef)))\n",
    "\n",
    "\n",
    "Train_Predicted = np.zeros(len(Probs))\n",
    "\n",
    "for i in range(len(Probs)):\n",
    "    if (Probs[i] > 0.5):  \n",
    "        Train_Predicted[i] = 1\n",
    "    else:\n",
    "        Train_Predicted[i] = 0"
   ]
  },
  {
   "cell_type": "code",
   "execution_count": 119,
   "metadata": {},
   "outputs": [
    {
     "name": "stdout",
     "output_type": "stream",
     "text": [
      "Mean Scores for Train Are:\n",
      "0.08943172873376908 0.3181951908261956\n"
     ]
    }
   ],
   "source": [
    "Equal = 0\n",
    "for i in range(len(Y_Train)):\n",
    "    if (Y_Train.iloc[i] == Train_Predicted[i]):\n",
    "        Equal = Equal + 1\n",
    "        \n",
    "        \n",
    "Score = Probs/(1 - Probs)\n",
    "print(\"Mean Scores for Train Are:\")\n",
    "print(np.mean(Score[Y_Train == 0]), np.mean(Score[Y_Train == 1]))\n"
   ]
  },
  {
   "cell_type": "code",
   "execution_count": 120,
   "metadata": {},
   "outputs": [
    {
     "name": "stdout",
     "output_type": "stream",
     "text": [
      "Classification Accuracy on Training Set is:\n"
     ]
    },
    {
     "data": {
      "text/plain": [
       "0.9313849590469099"
      ]
     },
     "execution_count": 120,
     "metadata": {},
     "output_type": "execute_result"
    }
   ],
   "source": [
    "print(\"Classification Accuracy on Training Set is:\")\n",
    "Equal/len(Y_Train)"
   ]
  },
  {
   "cell_type": "code",
   "execution_count": 123,
   "metadata": {},
   "outputs": [
    {
     "name": "stdout",
     "output_type": "stream",
     "text": [
      "Mean Scores for Test Are:\n",
      "0.08140064197453614 0.26779875144101095\n",
      "Classification Accuracy on Test Set is:\n",
      "0.9303081458338582\n"
     ]
    }
   ],
   "source": [
    "### Testing Classification Accuracy\n",
    "\n",
    "Probs = np.zeros(len(X_Test))\n",
    "\n",
    "for i in range(len(X_Test)):\n",
    "    Vector = np.array(X_Test.iloc[i, :])\n",
    "    Probs[i] = 1/(1 + np.exp(-np.dot(Vector, Map_Est_Coef)))\n",
    "\n",
    "\n",
    "Test_Predicted = np.zeros(len(Probs))\n",
    "\n",
    "for i in range(len(Probs)):\n",
    "    if (Probs[i] > 0.5):  \n",
    "        Test_Predicted[i] = 1\n",
    "    else:\n",
    "        Test_Predicted[i] = 0\n",
    "        \n",
    "Equal = 0\n",
    "for i in range(len(Y_Test)):\n",
    "    if (Y_Test.iloc[i] == Test_Predicted[i]):\n",
    "        Equal = Equal + 1\n",
    "        \n",
    "Score = Probs/(1 - Probs)\n",
    "print(\"Mean Scores for Test Are:\")\n",
    "print(np.mean(Score[Y_Test == 0]), np.mean(Score[Y_Test == 1]))\n",
    "\n",
    "\n",
    "print(\"Classification Accuracy on Test Set is:\")\n",
    "print(Equal/len(X_Test))"
   ]
  }
 ],
 "metadata": {
  "kernelspec": {
   "display_name": "Python 3",
   "language": "python",
   "name": "python3"
  },
  "language_info": {
   "codemirror_mode": {
    "name": "ipython",
    "version": 3
   },
   "file_extension": ".py",
   "mimetype": "text/x-python",
   "name": "python",
   "nbconvert_exporter": "python",
   "pygments_lexer": "ipython3",
   "version": "3.7.6"
  }
 },
 "nbformat": 4,
 "nbformat_minor": 4
}
