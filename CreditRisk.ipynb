{
 "cells": [
  {
   "cell_type": "code",
   "execution_count": 52,
   "metadata": {},
   "outputs": [],
   "source": [
    "import numpy as np \n",
    "import pandas as pd\n",
    "from sklearn.model_selection import train_test_split\n",
    "import tensorflow as tf\n",
    "from tensorflow import keras\n",
    "from tensorflow.keras import layers\n",
    "from sklearn.preprocessing import MinMaxScaler\n",
    "from matplotlib import pyplot as plt\n",
    "from scipy import linalg"
   ]
  },
  {
   "cell_type": "code",
   "execution_count": 2,
   "metadata": {},
   "outputs": [
    {
     "name": "stdout",
     "output_type": "stream",
     "text": [
      "150000\n",
      "120269\n"
     ]
    }
   ],
   "source": [
    "df = pd.read_csv(\"cs-training.csv\", index_col = 0)\n",
    "print(len(df))\n",
    "df = df.dropna()\n",
    "print(len(df))\n",
    "X_cols = list(df.columns)\n",
    "X_cols.remove(\"SeriousDlqin2yrs\")\n",
    "X = df[X_cols].to_numpy()\n",
    "y = df[\"SeriousDlqin2yrs\"].to_numpy()"
   ]
  },
  {
   "cell_type": "code",
   "execution_count": 3,
   "metadata": {},
   "outputs": [],
   "source": [
    "X_train, X_test, y_train, y_test = train_test_split(X, y, test_size=0.33, random_state=42)"
   ]
  },
  {
   "cell_type": "markdown",
   "metadata": {},
   "source": [
    "# Fisher LDA"
   ]
  },
  {
   "cell_type": "code",
   "execution_count": 54,
   "metadata": {},
   "outputs": [
    {
     "name": "stdout",
     "output_type": "stream",
     "text": [
      "85.44373421739455 83.43138114569696\n",
      "85.49241455143037 83.98570707600497\n"
     ]
    }
   ],
   "source": [
    "mu = np.mean(X_train)\n",
    "X_train_demeaned = (X_train - mu).T\n",
    "X_test_demeaned = (X_test - mu).T\n",
    "S_t = np.cov(X_train_demeaned)\n",
    "S_w = np.zeros(S_t.shape)\n",
    "for c in np.unique(y_train):\n",
    "    S_w += np.cov(X_train_demeaned[:, y_train == c])\n",
    "\n",
    "S_b = S_t - S_w\n",
    "\n",
    "\n",
    "vals, vecs = linalg.eig(np.linalg.inv(S_w)@S_b)\n",
    "vecs = vecs[:, np.argsort(vals)]\n",
    "W_lda = vecs[:, -1:].real\n",
    "\n",
    "X_train_lda = (W_lda.T@X_train_demeaned).T\n",
    "X_test_lda = (W_lda.T@X_test_demeaned).T\n",
    "\n",
    "print(np.mean(X_train_lda[y_train == 0]), np.mean(X_train_lda[y_train == 1]))\n",
    "print(np.mean(X_test_lda[y_test == 0]), np.mean(X_test_lda[y_test == 1]))\n"
   ]
  },
  {
   "cell_type": "markdown",
   "metadata": {},
   "source": [
    "# Logistic Regression"
   ]
  },
  {
   "cell_type": "code",
   "execution_count": 51,
   "metadata": {},
   "outputs": [
    {
     "name": "stdout",
     "output_type": "stream",
     "text": [
      "0.08943248579736342 0.31403573504498794\n",
      "0.08111160118850445 0.26534977342014043\n"
     ]
    }
   ],
   "source": [
    "from sklearn.linear_model import LogisticRegression\n",
    "clf = LogisticRegression(random_state=0, max_iter = 1000).fit(X_train, y_train)\n",
    "probs = clf.predict_proba(X_train)\n",
    "score = probs[:, 1]/(1 - probs[:, 1])\n",
    "print(np.mean(score[y_train == 0]), np.mean(score[y_train == 1]))\n",
    "\n",
    "probs = clf.predict_proba(X_test)\n",
    "score = probs[:, 1]/(1 - probs[:, 1])\n",
    "print(np.mean(score[y_test == 0]), np.mean(score[y_test == 1]))"
   ]
  },
  {
   "cell_type": "markdown",
   "metadata": {},
   "source": [
    "# Random Forest"
   ]
  },
  {
   "cell_type": "code",
   "execution_count": 53,
   "metadata": {},
   "outputs": [
    {
     "name": "stdout",
     "output_type": "stream",
     "text": [
      "0.07023938518560487 0.39612069415283807\n",
      "0.07135186453471327 0.3791356430665598\n"
     ]
    }
   ],
   "source": [
    "from sklearn.ensemble import RandomForestClassifier\n",
    "clf = RandomForestClassifier(max_depth=5, random_state=0)\n",
    "clf.fit(X_train, y_train)\n",
    "probs = clf.predict_proba(X_train)\n",
    "score = probs[:, 1]/(1 - probs[:, 1])\n",
    "print(np.mean(score[y_train == 0]), np.mean(score[y_train == 1]))\n",
    "\n",
    "probs = clf.predict_proba(X_test)\n",
    "score = probs[:, 1]/(1 - probs[:, 1])\n",
    "print(np.mean(score[y_test == 0]), np.mean(score[y_test == 1]))"
   ]
  },
  {
   "cell_type": "markdown",
   "metadata": {},
   "source": [
    "# Dense NN"
   ]
  },
  {
   "cell_type": "code",
   "execution_count": 60,
   "metadata": {},
   "outputs": [
    {
     "name": "stdout",
     "output_type": "stream",
     "text": [
      "Epoch 1/50\n",
      "10073/10073 [==============================] - 7s 636us/step - loss: 0.3964\n",
      "Epoch 2/50\n",
      "10073/10073 [==============================] - 6s 641us/step - loss: 0.2515\n",
      "Epoch 3/50\n",
      "10073/10073 [==============================] - 7s 676us/step - loss: 0.2556\n",
      "Epoch 4/50\n",
      "10073/10073 [==============================] - 7s 686us/step - loss: 0.2515\n",
      "Epoch 5/50\n",
      "10073/10073 [==============================] - 7s 690us/step - loss: 0.2515\n",
      "Epoch 6/50\n",
      "10073/10073 [==============================] - 7s 660us/step - loss: 0.2522\n",
      "Epoch 7/50\n",
      "10073/10073 [==============================] - 7s 674us/step - loss: 0.2515\n",
      "Epoch 8/50\n",
      " 7917/10073 [======================>.......] - ETA: 1s - loss: 0.2544"
     ]
    }
   ],
   "source": [
    "model_in = keras.Input(shape = (10,))\n",
    "x = layers.Dense(5, activation= \"relu\")(model_in)\n",
    "x = layers.Dense(2, activation= \"relu\")(x)\n",
    "out = layers.Dense(1, activation= \"sigmoid\")(x)\n",
    "\n",
    "model = keras.Model(model_in, out)\n",
    "model.compile(optimizer='adam', loss='binary_crossentropy')\n",
    "model.fit(X_train, y_train, epochs=50,\n",
    "                batch_size=8,\n",
    "                shuffle=True)"
   ]
  },
  {
   "cell_type": "code",
   "execution_count": 59,
   "metadata": {},
   "outputs": [
    {
     "name": "stdout",
     "output_type": "stream",
     "text": [
      "0.074047506 0.074047506\n"
     ]
    }
   ],
   "source": [
    "probs = model.predict(X_train)\n",
    "score = probs/(1 - probs)\n",
    "print(np.mean(score[y_train == 0]), np.mean(score[y_train == 1]))"
   ]
  },
  {
   "cell_type": "code",
   "execution_count": null,
   "metadata": {},
   "outputs": [],
   "source": []
  }
 ],
 "metadata": {
  "interpreter": {
   "hash": "3067ead486e059ec00ffe7555bdb889e6e264a24dc711bf108106cc7baee8d5d"
  },
  "kernelspec": {
   "display_name": "Python 3.8.8 64-bit ('base': conda)",
   "language": "python",
   "name": "python3"
  },
  "language_info": {
   "codemirror_mode": {
    "name": "ipython",
    "version": 3
   },
   "file_extension": ".py",
   "mimetype": "text/x-python",
   "name": "python",
   "nbconvert_exporter": "python",
   "pygments_lexer": "ipython3",
   "version": "3.8.8"
  },
  "orig_nbformat": 4
 },
 "nbformat": 4,
 "nbformat_minor": 2
}
