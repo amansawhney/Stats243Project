{
 "cells": [
  {
   "cell_type": "code",
   "execution_count": 3,
   "metadata": {},
   "outputs": [],
   "source": [
    "import numpy as np \n",
    "import pandas as pd\n",
    "from sklearn.model_selection import train_test_split\n",
    "import tensorflow as tf\n",
    "from tensorflow import keras\n",
    "from tensorflow.keras import layers\n",
    "from sklearn.preprocessing import MinMaxScaler\n",
    "from matplotlib import pyplot as plt\n",
    "from scipy import linalg"
   ]
  },
  {
   "cell_type": "code",
   "execution_count": 9,
   "metadata": {},
   "outputs": [
    {
     "name": "stdout",
     "output_type": "stream",
     "text": [
      "150000\n",
      "120269\n"
     ]
    }
   ],
   "source": [
    "df = pd.read_csv(\"~/Stats243Project/Data/cs-training.csv\", index_col = 0)\n",
    "print(len(df))\n",
    "df = df.dropna()\n",
    "print(len(df))\n",
    "X_cols = list(df.columns)\n",
    "X_cols.remove(\"SeriousDlqin2yrs\")\n",
    "X = df[X_cols].to_numpy()\n",
    "y = df[\"SeriousDlqin2yrs\"].to_numpy()"
   ]
  },
  {
   "cell_type": "code",
   "execution_count": 10,
   "metadata": {},
   "outputs": [],
   "source": [
    "X_train, X_test, y_train, y_test = train_test_split(X, y, test_size=0.33, random_state=42)"
   ]
  },
  {
   "cell_type": "markdown",
   "metadata": {},
   "source": [
    "# Fisher LDA"
   ]
  },
  {
   "cell_type": "code",
   "execution_count": 11,
   "metadata": {},
   "outputs": [
    {
     "name": "stdout",
     "output_type": "stream",
     "text": [
      "85.44373421739633 83.43138114569865\n",
      "85.49241455143215 83.98570707600669\n"
     ]
    }
   ],
   "source": [
    "mu = np.mean(X_train)\n",
    "X_train_demeaned = (X_train - mu).T\n",
    "X_test_demeaned = (X_test - mu).T\n",
    "S_t = np.cov(X_train_demeaned)\n",
    "S_w = np.zeros(S_t.shape)\n",
    "for c in np.unique(y_train):\n",
    "    S_w += np.cov(X_train_demeaned[:, y_train == c])\n",
    "\n",
    "S_b = S_t - S_w\n",
    "\n",
    "\n",
    "vals, vecs = linalg.eig(np.linalg.inv(S_w)@S_b)\n",
    "vecs = vecs[:, np.argsort(vals)]\n",
    "W_lda = vecs[:, -1:].real\n",
    "\n",
    "X_train_lda = (W_lda.T@X_train_demeaned).T\n",
    "X_test_lda = (W_lda.T@X_test_demeaned).T\n",
    "\n",
    "print(np.mean(X_train_lda[y_train == 0]), np.mean(X_train_lda[y_train == 1]))\n",
    "print(np.mean(X_test_lda[y_test == 0]), np.mean(X_test_lda[y_test == 1]))\n"
   ]
  },
  {
   "cell_type": "markdown",
   "metadata": {},
   "source": [
    "# Logistic Regression"
   ]
  },
  {
   "cell_type": "code",
   "execution_count": 12,
   "metadata": {},
   "outputs": [
    {
     "name": "stdout",
     "output_type": "stream",
     "text": [
      "0.08939710399711638 0.31580477039617605\n",
      "0.08139228896473245 0.2668209060192212\n"
     ]
    }
   ],
   "source": [
    "from sklearn.linear_model import LogisticRegression\n",
    "clf = LogisticRegression(random_state=0, max_iter = 1000).fit(X_train, y_train)\n",
    "probs = clf.predict_proba(X_train)\n",
    "score = probs[:, 1]/(1 - probs[:, 1])\n",
    "print(np.mean(score[y_train == 0]), np.mean(score[y_train == 1]))\n",
    "\n",
    "probs = clf.predict_proba(X_test)\n",
    "score = probs[:, 1]/(1 - probs[:, 1])\n",
    "print(np.mean(score[y_test == 0]), np.mean(score[y_test == 1]))"
   ]
  },
  {
   "cell_type": "markdown",
   "metadata": {},
   "source": [
    "# Random Forest"
   ]
  },
  {
   "cell_type": "code",
   "execution_count": 13,
   "metadata": {},
   "outputs": [
    {
     "name": "stdout",
     "output_type": "stream",
     "text": [
      "0.07023938518560487 0.39612069415283807\n",
      "0.07135186453471327 0.3791356430665598\n"
     ]
    }
   ],
   "source": [
    "from sklearn.ensemble import RandomForestClassifier\n",
    "clf = RandomForestClassifier(max_depth=5, random_state=0)\n",
    "clf.fit(X_train, y_train)\n",
    "probs = clf.predict_proba(X_train)\n",
    "score = probs[:, 1]/(1 - probs[:, 1])\n",
    "print(np.mean(score[y_train == 0]), np.mean(score[y_train == 1]))\n",
    "\n",
    "probs = clf.predict_proba(X_test)\n",
    "score = probs[:, 1]/(1 - probs[:, 1])\n",
    "print(np.mean(score[y_test == 0]), np.mean(score[y_test == 1]))"
   ]
  },
  {
   "cell_type": "markdown",
   "metadata": {},
   "source": [
    "# Dense NN"
   ]
  },
  {
   "cell_type": "code",
   "execution_count": 14,
   "metadata": {
    "scrolled": true
   },
   "outputs": [
    {
     "name": "stdout",
     "output_type": "stream",
     "text": [
      "Epoch 1/50\n"
     ]
    },
    {
     "name": "stderr",
     "output_type": "stream",
     "text": [
      "2022-03-16 14:52:06.902127: I tensorflow/core/platform/cpu_feature_guard.cc:151] This TensorFlow binary is optimized with oneAPI Deep Neural Network Library (oneDNN) to use the following CPU instructions in performance-critical operations:  AVX2 FMA\n",
      "To enable them in other operations, rebuild TensorFlow with the appropriate compiler flags.\n"
     ]
    },
    {
     "name": "stdout",
     "output_type": "stream",
     "text": [
      "10073/10073 [==============================] - 9s 893us/step - loss: 13.1984\n",
      "Epoch 2/50\n",
      "10073/10073 [==============================] - 9s 885us/step - loss: 0.2516\n",
      "Epoch 3/50\n",
      "10073/10073 [==============================] - 9s 890us/step - loss: 0.2516\n",
      "Epoch 4/50\n",
      "10073/10073 [==============================] - 9s 898us/step - loss: 0.2515\n",
      "Epoch 5/50\n",
      "10073/10073 [==============================] - 9s 884us/step - loss: 0.2516\n",
      "Epoch 6/50\n",
      "10073/10073 [==============================] - 9s 892us/step - loss: 0.2516\n",
      "Epoch 7/50\n",
      "10073/10073 [==============================] - 9s 895us/step - loss: 0.2516\n",
      "Epoch 8/50\n",
      "10073/10073 [==============================] - 9s 885us/step - loss: 0.2515\n",
      "Epoch 9/50\n",
      "10073/10073 [==============================] - 9s 886us/step - loss: 0.2516\n",
      "Epoch 10/50\n",
      "10073/10073 [==============================] - 9s 897us/step - loss: 0.2516\n",
      "Epoch 11/50\n",
      "10073/10073 [==============================] - 9s 891us/step - loss: 0.2516\n",
      "Epoch 12/50\n",
      "10073/10073 [==============================] - 9s 907us/step - loss: 0.2516\n",
      "Epoch 13/50\n",
      "10073/10073 [==============================] - 9s 893us/step - loss: 0.2516\n",
      "Epoch 14/50\n",
      "10073/10073 [==============================] - 9s 892us/step - loss: 0.2516\n",
      "Epoch 15/50\n",
      "10073/10073 [==============================] - 10s 980us/step - loss: 0.2516\n",
      "Epoch 16/50\n",
      "10073/10073 [==============================] - 10s 947us/step - loss: 0.2515\n",
      "Epoch 17/50\n",
      "10073/10073 [==============================] - 9s 917us/step - loss: 0.2515\n",
      "Epoch 18/50\n",
      "10073/10073 [==============================] - 9s 886us/step - loss: 0.2515\n",
      "Epoch 19/50\n",
      "10073/10073 [==============================] - 9s 890us/step - loss: 0.2516\n",
      "Epoch 20/50\n",
      "10073/10073 [==============================] - 9s 885us/step - loss: 0.2516\n",
      "Epoch 21/50\n",
      "10073/10073 [==============================] - 9s 890us/step - loss: 0.2515\n",
      "Epoch 22/50\n",
      "10073/10073 [==============================] - 9s 897us/step - loss: 0.2515\n",
      "Epoch 23/50\n",
      "10073/10073 [==============================] - 9s 892us/step - loss: 0.2515\n",
      "Epoch 24/50\n",
      "10073/10073 [==============================] - 9s 889us/step - loss: 0.2516\n",
      "Epoch 25/50\n",
      "10073/10073 [==============================] - 9s 890us/step - loss: 0.2515\n",
      "Epoch 26/50\n",
      "10073/10073 [==============================] - 9s 908us/step - loss: 0.2516\n",
      "Epoch 27/50\n",
      "10073/10073 [==============================] - 9s 886us/step - loss: 0.2516\n",
      "Epoch 28/50\n",
      "10073/10073 [==============================] - 9s 883us/step - loss: 0.2515\n",
      "Epoch 29/50\n",
      "10073/10073 [==============================] - 9s 884us/step - loss: 0.2515\n",
      "Epoch 30/50\n",
      "10073/10073 [==============================] - 9s 887us/step - loss: 0.2516\n",
      "Epoch 31/50\n",
      "10073/10073 [==============================] - 9s 880us/step - loss: 0.2516\n",
      "Epoch 32/50\n",
      "10073/10073 [==============================] - 9s 883us/step - loss: 0.2516\n",
      "Epoch 33/50\n",
      "10073/10073 [==============================] - 9s 886us/step - loss: 0.2516\n",
      "Epoch 34/50\n",
      "10073/10073 [==============================] - 9s 884us/step - loss: 0.2516\n",
      "Epoch 35/50\n",
      "10073/10073 [==============================] - 9s 890us/step - loss: 0.2515\n",
      "Epoch 36/50\n",
      "10073/10073 [==============================] - 9s 885us/step - loss: 0.2516\n",
      "Epoch 37/50\n",
      "10073/10073 [==============================] - 9s 884us/step - loss: 0.2516\n",
      "Epoch 38/50\n",
      "10073/10073 [==============================] - 9s 879us/step - loss: 0.2515\n",
      "Epoch 39/50\n",
      "10073/10073 [==============================] - 9s 883us/step - loss: 0.2515\n",
      "Epoch 40/50\n",
      "10073/10073 [==============================] - 9s 903us/step - loss: 0.2516\n",
      "Epoch 41/50\n",
      "10073/10073 [==============================] - 9s 889us/step - loss: 0.2516\n",
      "Epoch 42/50\n",
      "10073/10073 [==============================] - 9s 906us/step - loss: 0.2516\n",
      "Epoch 43/50\n",
      "10073/10073 [==============================] - 9s 892us/step - loss: 0.2515\n",
      "Epoch 44/50\n",
      "10073/10073 [==============================] - 9s 890us/step - loss: 0.2516\n",
      "Epoch 45/50\n",
      "10073/10073 [==============================] - 9s 896us/step - loss: 0.2516\n",
      "Epoch 46/50\n",
      "10073/10073 [==============================] - 9s 891us/step - loss: 0.2516\n",
      "Epoch 47/50\n",
      "10073/10073 [==============================] - 9s 884us/step - loss: 0.2516\n",
      "Epoch 48/50\n",
      "10073/10073 [==============================] - 9s 886us/step - loss: 0.2516\n",
      "Epoch 49/50\n",
      "10073/10073 [==============================] - 9s 886us/step - loss: 0.2516\n",
      "Epoch 50/50\n",
      "10073/10073 [==============================] - 9s 908us/step - loss: 0.2516\n"
     ]
    },
    {
     "data": {
      "text/plain": [
       "<keras.callbacks.History at 0x7fc7b43e3fd0>"
      ]
     },
     "execution_count": 14,
     "metadata": {},
     "output_type": "execute_result"
    }
   ],
   "source": [
    "model_in = keras.Input(shape = (10,))\n",
    "x = layers.Dense(5, activation= \"relu\")(model_in)\n",
    "x = layers.Dense(2, activation= \"relu\")(x)\n",
    "out = layers.Dense(1, activation= \"sigmoid\")(x)\n",
    "\n",
    "model = keras.Model(model_in, out)\n",
    "model.compile(optimizer='adam', loss='binary_crossentropy')\n",
    "model.fit(X_train, y_train, epochs=50,\n",
    "                batch_size=8,\n",
    "                shuffle=True)"
   ]
  },
  {
   "cell_type": "code",
   "execution_count": 15,
   "metadata": {},
   "outputs": [
    {
     "name": "stdout",
     "output_type": "stream",
     "text": [
      "0.075107925 0.075107925\n"
     ]
    }
   ],
   "source": [
    "probs = model.predict(X_train)\n",
    "score = probs/(1 - probs)\n",
    "print(np.mean(score[y_train == 0]), np.mean(score[y_train == 1]))"
   ]
  },
  {
   "cell_type": "code",
   "execution_count": null,
   "metadata": {},
   "outputs": [],
   "source": []
  }
 ],
 "metadata": {
  "interpreter": {
   "hash": "3067ead486e059ec00ffe7555bdb889e6e264a24dc711bf108106cc7baee8d5d"
  },
  "kernelspec": {
   "display_name": "Python 3 (ipykernel)",
   "language": "python",
   "name": "python3"
  },
  "language_info": {
   "codemirror_mode": {
    "name": "ipython",
    "version": 3
   },
   "file_extension": ".py",
   "mimetype": "text/x-python",
   "name": "python",
   "nbconvert_exporter": "python",
   "pygments_lexer": "ipython3",
   "version": "3.8.12"
  }
 },
 "nbformat": 4,
 "nbformat_minor": 2
}
